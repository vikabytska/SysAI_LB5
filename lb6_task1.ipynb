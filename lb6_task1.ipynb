{
 "cells": [
  {
   "cell_type": "markdown",
   "id": "f82c86c9-76e5-4168-a9b8-96139c79a460",
   "metadata": {},
   "source": [
    "Бицька Віка, 1 варіант"
   ]
  },
  {
   "cell_type": "code",
   "execution_count": 23,
   "id": "e6aed0e7-4489-4d3f-a9d2-4c6654a1f78e",
   "metadata": {},
   "outputs": [],
   "source": [
    "from collections import Counter"
   ]
  },
  {
   "cell_type": "code",
   "execution_count": 24,
   "id": "e7a0e9cb-a3a7-4f89-ba69-c1d70f80f628",
   "metadata": {},
   "outputs": [],
   "source": [
    "data = [\n",
    "    {\"Outlook\": \"Sunny\", \"Humidity\": \"High\", \"Wind\": \"Weak\", \"Play\": \"No\"},\n",
    "    {\"Outlook\": \"Sunny\", \"Humidity\": \"High\", \"Wind\": \"Strong\", \"Play\": \"No\"},\n",
    "    {\"Outlook\": \"Overcast\", \"Humidity\": \"High\", \"Wind\": \"Weak\", \"Play\": \"Yes\"},\n",
    "    {\"Outlook\": \"Rain\", \"Humidity\": \"High\", \"Wind\": \"Weak\", \"Play\": \"Yes\"},\n",
    "    {\"Outlook\": \"Rain\", \"Humidity\": \"Normal\", \"Wind\": \"Weak\", \"Play\": \"Yes\"},\n",
    "    {\"Outlook\": \"Rain\", \"Humidity\": \"Normal\", \"Wind\": \"Strong\", \"Play\": \"No\"},\n",
    "    {\"Outlook\": \"Overcast\", \"Humidity\": \"Normal\", \"Wind\": \"Strong\", \"Play\": \"Yes\"},\n",
    "    {\"Outlook\": \"Sunny\", \"Humidity\": \"High\", \"Wind\": \"Weak\", \"Play\": \"No\"},\n",
    "    {\"Outlook\": \"Sunny\", \"Humidity\": \"Normal\", \"Wind\": \"Weak\", \"Play\": \"Yes\"},\n",
    "    {\"Outlook\": \"Rain\", \"Humidity\": \"High\", \"Wind\": \"Weak\", \"Play\": \"Yes\"},\n",
    "    {\"Outlook\": \"Sunny\", \"Humidity\": \"Normal\", \"Wind\": \"Strong\", \"Play\": \"Yes\"},\n",
    "    {\"Outlook\": \"Overcast\", \"Humidity\": \"High\", \"Wind\": \"Strong\", \"Play\": \"Yes\"},\n",
    "    {\"Outlook\": \"Overcast\", \"Humidity\": \"Normal\", \"Wind\": \"Weak\", \"Play\": \"Yes\"},\n",
    "    {\"Outlook\": \"Rain\", \"Humidity\": \"High\", \"Wind\": \"Strong\", \"Play\": \"No\"},\n",
    "]"
   ]
  },
  {
   "cell_type": "code",
   "execution_count": 25,
   "id": "cef62ae3-5407-4565-a770-0feb4cc11585",
   "metadata": {},
   "outputs": [],
   "source": [
    "play_count = Counter([row[\"Play\"] for row in data])\n",
    "outlook_count = Counter([(row[\"Outlook\"], row[\"Play\"]) for row in data])\n",
    "humidity_count = Counter([(row[\"Humidity\"], row[\"Play\"]) for row in data])\n",
    "wind_count = Counter([(row[\"Wind\"], row[\"Play\"]) for row in data])"
   ]
  },
  {
   "cell_type": "code",
   "execution_count": 26,
   "id": "944974f7-6960-41fc-8add-dc4460bb62d6",
   "metadata": {},
   "outputs": [],
   "source": [
    "total_play_yes = play_count[\"Yes\"] / len(data)\n",
    "total_play_no = play_count[\"No\"] / len(data)"
   ]
  },
  {
   "cell_type": "code",
   "execution_count": 27,
   "id": "ee4f46d6-7e36-4441-9bf5-188f9a364a38",
   "metadata": {},
   "outputs": [],
   "source": [
    "yes_outlook = outlook_count[(\"Overcast\", \"Yes\")] / play_count[\"Yes\"]\n",
    "no_outlook = outlook_count[(\"Overcast\", \"No\")] / play_count[\"No\"]"
   ]
  },
  {
   "cell_type": "code",
   "execution_count": 28,
   "id": "efdc8513-4889-4b5f-89d7-026705489532",
   "metadata": {},
   "outputs": [],
   "source": [
    "yes_humidity = humidity_count[(\"High\", \"Yes\")] / play_count[\"Yes\"]\n",
    "no_humidity = humidity_count[(\"High\", \"No\")] / play_count[\"No\"]"
   ]
  },
  {
   "cell_type": "code",
   "execution_count": 29,
   "id": "daf5ee5b-9f2b-4a67-815c-66a6ab4600ed",
   "metadata": {},
   "outputs": [],
   "source": [
    "yes_wind = wind_count[(\"Weak\", \"Yes\")] / play_count[\"Yes\"]\n",
    "no_wind = wind_count[(\"Weak\", \"No\")] / play_count[\"No\"]"
   ]
  },
  {
   "cell_type": "code",
   "execution_count": 30,
   "id": "6a4d13d9-d7f9-463c-b564-4daec14636d9",
   "metadata": {},
   "outputs": [],
   "source": [
    "yes_total_play = play_count[\"Yes\"] / len(data)\n",
    "no_total_play = play_count[\"No\"] / len(data)"
   ]
  },
  {
   "cell_type": "code",
   "execution_count": 31,
   "id": "2def8d28-2be9-4597-a3e7-a8f9fd32ccf3",
   "metadata": {},
   "outputs": [],
   "source": [
    "yes_probab = yes_outlook * yes_humidity * yes_wind * total_play_yes\n",
    "no_probab = no_outlook * no_humidity * no_wind * total_play_no"
   ]
  },
  {
   "cell_type": "code",
   "execution_count": 32,
   "id": "b44d66fe-32e7-4cda-a736-2a8af57d467a",
   "metadata": {},
   "outputs": [],
   "source": [
    "yes_normalized_probab = yes_probab / (yes_probab + no_probab)\n",
    "no_normalized_probab = no_probab / (yes_probab + no_probab)"
   ]
  },
  {
   "cell_type": "code",
   "execution_count": 33,
   "id": "5f453af9-ac7e-4bfd-8ad4-77a5099ae2f5",
   "metadata": {},
   "outputs": [
    {
     "name": "stdout",
     "output_type": "stream",
     "text": [
      "Yes probability: 1.00\n",
      "No probability: 0.00\n"
     ]
    }
   ],
   "source": [
    "print(f\"Yes probability: {yes_normalized_probab:.2f}\")\n",
    "print(f\"No probability: {no_normalized_probab:.2f}\")"
   ]
  },
  {
   "cell_type": "code",
   "execution_count": null,
   "id": "bbe389e7-5a83-4682-87e0-74d3d2d58cdf",
   "metadata": {},
   "outputs": [],
   "source": []
  }
 ],
 "metadata": {
  "kernelspec": {
   "display_name": "Python 3 (ipykernel)",
   "language": "python",
   "name": "python3"
  },
  "language_info": {
   "codemirror_mode": {
    "name": "ipython",
    "version": 3
   },
   "file_extension": ".py",
   "mimetype": "text/x-python",
   "name": "python",
   "nbconvert_exporter": "python",
   "pygments_lexer": "ipython3",
   "version": "3.12.4"
  }
 },
 "nbformat": 4,
 "nbformat_minor": 5
}
